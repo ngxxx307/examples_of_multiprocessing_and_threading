{
 "cells": [
  {
   "cell_type": "code",
   "execution_count": 12,
   "id": "1a65fb8e",
   "metadata": {},
   "outputs": [],
   "source": [
    "def some_function(seconds):\n",
    "    print(f\"sleeping for {seconds} seconds...\")\n",
    "    time.sleep(seconds)\n",
    "    \n",
    "    return f'Done sleeping for {seconds} seconds'"
   ]
  },
  {
   "cell_type": "code",
   "execution_count": 44,
   "id": "7e8b2bd7",
   "metadata": {},
   "outputs": [
    {
     "data": {
      "text/plain": [
       "-1"
      ]
     },
     "execution_count": 44,
     "metadata": {},
     "output_type": "execute_result"
    }
   ],
   "source": [
    "~0"
   ]
  },
  {
   "cell_type": "markdown",
   "id": "f6bcb970",
   "metadata": {},
   "source": [
    "# A. Multi-threading"
   ]
  },
  {
   "cell_type": "markdown",
   "id": "fe12034b",
   "metadata": {},
   "source": [
    "Threading: Suitable for "
   ]
  },
  {
   "cell_type": "markdown",
   "id": "fe6b34fe-ad8a-42a2-b91e-ba73b3530c66",
   "metadata": {},
   "source": [
    "## 1. Old-manual way to do parallel computing"
   ]
  },
  {
   "cell_type": "code",
   "execution_count": 17,
   "id": "fa53849a-330a-4386-81ce-aba99dc4fa0c",
   "metadata": {},
   "outputs": [],
   "source": [
    "import threading\n",
    "import time"
   ]
  },
  {
   "cell_type": "code",
   "execution_count": 19,
   "id": "290cca79-b939-425f-a061-b53fbfda9bb2",
   "metadata": {},
   "outputs": [
    {
     "name": "stdout",
     "output_type": "stream",
     "text": [
      "sleeping for 1.5 seconds...\n",
      "\n",
      "sleeping for 1.5 seconds...\n",
      "\n",
      "sleeping for 1.5 seconds...\n",
      "\n",
      "sleeping for 1.5 seconds...\n",
      "\n",
      "sleeping for 1.5 seconds...\n",
      "\n",
      "sleeping for 1.5 seconds...\n",
      "\n",
      "sleeping for 1.5 seconds...\n",
      "\n",
      "sleeping for 1.5 seconds...\n",
      "\n",
      "sleeping for 1.5 seconds...\n",
      "\n",
      "sleeping for 1.5 seconds...\n",
      "\n",
      "finish in 1.51 seconds\n"
     ]
    }
   ],
   "source": [
    "start = time.perf_counter()\n",
    "\n",
    "threads = []\n",
    "\n",
    "# Create 10 threads that do 10 tasks\n",
    "for _ in range(10):\n",
    "    t = threading.Thread(target=some_function, args=[1.5])\n",
    "    t.start()\n",
    "    threads.append(t)\n",
    "\n",
    "# Execute the task in thread first become moving on to afterward task    \n",
    "for t in threads:\n",
    "    t.join()\n",
    "    \n",
    "finish = time.perf_counter()\n",
    "\n",
    "print(f'finish in {round(finish-start, 2)} seconds')"
   ]
  },
  {
   "cell_type": "markdown",
   "id": "01b3ba53-a746-4ce3-8585-8a35f290f5ca",
   "metadata": {},
   "source": [
    "## 2. Concurrent futures"
   ]
  },
  {
   "cell_type": "code",
   "execution_count": 17,
   "id": "0e495ebb-147d-4d84-b251-10f81d43f627",
   "metadata": {},
   "outputs": [],
   "source": [
    "import concurrent.futures\n",
    "import time"
   ]
  },
  {
   "cell_type": "code",
   "execution_count": 36,
   "id": "c4ab35b4-db2d-496b-b3ae-79a812fae2e8",
   "metadata": {},
   "outputs": [],
   "source": [
    "def some_function(seconds):\n",
    "    print(f\"sleeping for {seconds} seconds...\")\n",
    "    time.sleep(seconds)\n",
    "    \n",
    "    return f'Done sleeping for {seconds} seconds'"
   ]
  },
  {
   "cell_type": "code",
   "execution_count": 15,
   "id": "2f40fb00-ad40-487e-9472-ec929c950dfe",
   "metadata": {},
   "outputs": [
    {
     "name": "stdout",
     "output_type": "stream",
     "text": [
      "sleeping for 5 seconds...\n",
      "\n",
      "sleeping for 4 seconds...\n",
      "\n",
      "sleeping for 3 seconds...\n",
      "\n",
      "sleeping for 2 seconds...\n",
      "\n",
      "sleeping for 1 seconds...\n",
      "\n",
      "finish in 5.01 seconds\n"
     ]
    }
   ],
   "source": [
    "start = time.perf_counter()\n",
    "\n",
    "List = [5, 4, 3, 2, 1]\n",
    "with concurrent.futures.ThreadPoolExecutor() as executor:\n",
    "    futures = [executor.submit(some_function, sec) for sec in List]\n",
    "    \n",
    "    # Since 1 second complete faster than 5 seoncds, one second print first\n",
    "    for f in concurrent.futures.as_completed(futures):\n",
    "        print(f.result())\n",
    "\n",
    "finish = time.perf_counter()\n",
    "\n",
    "print(f'finish in {round(finish-start, 2)} seconds')"
   ]
  },
  {
   "cell_type": "markdown",
   "id": "8dc923ff-5f12-4add-b69f-b508716f931e",
   "metadata": {},
   "source": [
    "#### Example of concurrent computing"
   ]
  },
  {
   "cell_type": "code",
   "execution_count": 30,
   "id": "929a9553-05c2-4606-8ba2-0014cc1f2cab",
   "metadata": {},
   "outputs": [
    {
     "ename": "TypeError",
     "evalue": "as_completed() missing 1 required positional argument: 'fs'",
     "output_type": "error",
     "traceback": [
      "\u001b[0;31m---------------------------------------------------------------------------\u001b[0m",
      "\u001b[0;31mTypeError\u001b[0m                                 Traceback (most recent call last)",
      "Input \u001b[0;32mIn [30]\u001b[0m, in \u001b[0;36m<cell line: 1>\u001b[0;34m()\u001b[0m\n\u001b[0;32m----> 1\u001b[0m \u001b[43mconcurrent\u001b[49m\u001b[38;5;241;43m.\u001b[39;49m\u001b[43mfutures\u001b[49m\u001b[38;5;241;43m.\u001b[39;49m\u001b[43mas_completed\u001b[49m\u001b[43m(\u001b[49m\u001b[43m)\u001b[49m\n",
      "\u001b[0;31mTypeError\u001b[0m: as_completed() missing 1 required positional argument: 'fs'"
     ]
    }
   ],
   "source": [
    "start = time.perf_counter()\n",
    "\n",
    "List = [5, 4, 3, 2, 1]\n",
    "with concurrent.futures.ThreadPoolExecutor() as executor:\n",
    "    futures = [executor.submit(some_function, sec) for sec in List]\n",
    "    \n",
    "    # Since 1 second complete faster than 5 seoncds, one second print first\n",
    "    for f in concurrent.futures.as_completed(futures):\n",
    "        print(f.result())\n",
    "\n",
    "finish = time.perf_counter()\n",
    "\n",
    "print(f'finish in {round(finish-start, 2)} seconds')"
   ]
  },
  {
   "cell_type": "markdown",
   "id": "2c8ab2c6-4766-4217-9379-71388c4245ec",
   "metadata": {},
   "source": [
    "#### Example of concurrent computing"
   ]
  },
  {
   "cell_type": "code",
   "execution_count": 46,
   "id": "4cbd2110-06d0-4a15-af55-ae199a1e6dc7",
   "metadata": {},
   "outputs": [
    {
     "name": "stdout",
     "output_type": "stream",
     "text": [
      "sleeping for 5 seconds...\n",
      "sleeping for 4 seconds...\n",
      "sleeping for 3 seconds...\n",
      "sleeping for 2 seconds...\n",
      "sleeping for 1 seconds...\n",
      "Done sleeping for 5 seconds\n",
      "Done sleeping for 4 seconds\n",
      "Done sleeping for 3 seconds\n",
      "Done sleeping for 2 seconds\n",
      "Done sleeping for 1 seconds\n",
      "finish in 5.01 seconds\n"
     ]
    }
   ],
   "source": [
    "start = time.perf_counter()\n",
    "\n",
    "List = [5, 4, 3, 2, 1]\n",
    "with concurrent.futures.ThreadPoolExecutor() as executor:\n",
    "    results = executor.map(some_function, List)\n",
    "    \n",
    "    for result in results:\n",
    "        print(result)\n",
    "    \n",
    "finish = time.perf_counter()\n",
    "\n",
    "print(f'finish in {round(finish-start, 2)} seconds')"
   ]
  },
  {
   "cell_type": "markdown",
   "id": "eab5b5d2",
   "metadata": {},
   "source": [
    "# B. Multi-processing"
   ]
  },
  {
   "cell_type": "code",
   "execution_count": 3,
   "id": "a4269a3e",
   "metadata": {},
   "outputs": [],
   "source": [
    "import concurrent.futures\n",
    "import time"
   ]
  },
  {
   "cell_type": "code",
   "execution_count": 13,
   "id": "61d670e1",
   "metadata": {},
   "outputs": [
    {
     "name": "stdout",
     "output_type": "stream",
     "text": [
      "sleeping for 5 seconds...\n",
      "sleeping for 4 seconds...\n",
      "sleeping for 3 seconds...\n",
      "sleeping for 2 seconds...\n",
      "sleeping for 1 seconds...\n",
      "\n",
      "\n",
      "\n",
      "\n",
      "\n",
      "Done sleeping for 1 seconds\n",
      "Done sleeping for 2 seconds\n",
      "Done sleeping for 3 seconds\n",
      "Done sleeping for 4 seconds\n",
      "Done sleeping for 5 seconds\n",
      "finish in 5.25 seconds\n"
     ]
    }
   ],
   "source": [
    "start = time.perf_counter()\n",
    "\n",
    "List = [5, 4, 3, 2, 1]\n",
    "with concurrent.futures.ProcessPoolExecutor() as executor:\n",
    "    futures = [executor.submit(some_function, sec) for sec in List]\n",
    "    \n",
    "    # Since 1 second complete faster than 5 seoncds, one second print first\n",
    "    for f in concurrent.futures.as_completed(futures):\n",
    "        print(f.result())\n",
    "    \n",
    "finish = time.perf_counter()\n",
    "\n",
    "print(f'finish in {round(finish-start, 2)} seconds')"
   ]
  },
  {
   "cell_type": "code",
   "execution_count": 14,
   "id": "3abafc33",
   "metadata": {},
   "outputs": [
    {
     "name": "stdout",
     "output_type": "stream",
     "text": [
      "sleeping for 5 seconds...\n",
      "sleeping for 4 seconds...\n",
      "sleeping for 3 seconds...\n",
      "\n",
      "sleeping for 1 seconds...\n",
      "sleeping for 2 seconds...\n",
      "\n",
      "\n",
      "\n",
      "\n",
      "Done sleeping for 5 seconds\n",
      "Done sleeping for 4 seconds\n",
      "Done sleeping for 3 seconds\n",
      "Done sleeping for 2 seconds\n",
      "Done sleeping for 1 seconds\n",
      "finish in 5.25 seconds\n"
     ]
    }
   ],
   "source": [
    "start = time.perf_counter()\n",
    "\n",
    "List = [5, 4, 3, 2, 1]\n",
    "with concurrent.futures.ProcessPoolExecutor() as executor:\n",
    "    results = executor.map(some_function, List)\n",
    "    \n",
    "    for result in results:\n",
    "        print(result)\n",
    "    \n",
    "finish = time.perf_counter()\n",
    "\n",
    "print(f'finish in {round(finish-start, 2)} seconds')"
   ]
  }
 ],
 "metadata": {
  "kernelspec": {
   "display_name": "Python 3 (ipykernel)",
   "language": "python",
   "name": "python3"
  },
  "language_info": {
   "codemirror_mode": {
    "name": "ipython",
    "version": 3
   },
   "file_extension": ".py",
   "mimetype": "text/x-python",
   "name": "python",
   "nbconvert_exporter": "python",
   "pygments_lexer": "ipython3",
   "version": "3.8.0"
  }
 },
 "nbformat": 4,
 "nbformat_minor": 5
}
